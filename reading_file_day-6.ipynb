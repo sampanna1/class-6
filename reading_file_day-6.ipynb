{
 "cells": [
  {
   "cell_type": "markdown",
   "id": "7f63ef91",
   "metadata": {},
   "source": [
    "# To read a file "
   ]
  },
  {
   "cell_type": "code",
   "execution_count": 5,
   "id": "7cda7602",
   "metadata": {},
   "outputs": [
    {
     "name": "stdout",
     "output_type": "stream",
     "text": [
      "lorem ipsum lorem ipsum lorem ipsum lorem ipsum lorem ipsum lorem ipsum lorem ipsum lorem ipsum lorem ipsum lorem ipsum lorem ipsum lorem ipsum lorem ipsum lorem ipsum lorem ipsum lorem ipsum lorem ipsum lorem ipsum lorem ipsum lorem ipsum lorem ipsum lorem ipsum lorem ipsum lorem ipsum lorem ipsum lorem ipsum lorem ipsum lorem ipsum lorem ipsum lorem ipsum lorem ipsum lorem ipsum lorem ipsum lorem ipsum lorem ipsum lorem ipsum lorem ipsum lorem ipsum lorem ipsum lorem ipsum lorem ipsum lorem ipsum lorem ipsum lorem ipsum lorem ipsum lorem ipsum lorem ipsum lorem ipsum lorem ipsum lorem ipsum lorem ipsum lorem ipsum lorem ipsum lorem ipsum lorem ipsum lorem ipsum lorem ipsum lorem ipsum lorem ipsum lorem ipsum lorem ipsum lorem ipsum lorem ipsum lorem ipsum lorem ipsum lorem ipsum lorem ipsum lorem ipsum lorem ipsum lorem ipsum lorem ipsum lorem ipsum lorem ipsum lorem ipsum lorem ipsum lorem ipsum lorem ipsum lorem ipsum lorem ipsum lorem ipsum lorem ipsum lorem ipsum lorem ipsum lorem ipsum lorem ipsum lorem ipsum lorem ipsum lorem ipsum lorem ipsum lorem ipsum lorem ipsum lorem ipsum lorem ipsum \n"
     ]
    }
   ],
   "source": [
    "file = open(\"sample.txt\", 'r') #read mode operation \n",
    "content = file.read()\n",
    "print (content)\n",
    "file.close() #importan operation \n"
   ]
  },
  {
   "cell_type": "markdown",
   "id": "1b9e4ce5",
   "metadata": {},
   "source": [
    "## To write to a file "
   ]
  },
  {
   "cell_type": "code",
   "execution_count": 8,
   "id": "30a9b963",
   "metadata": {},
   "outputs": [],
   "source": [
    "file = open(\"output.txt\", \"w\")\n",
    "file.write(\"Hello agin, World! \")\n",
    "file.close()"
   ]
  },
  {
   "cell_type": "markdown",
   "id": "5c100b27",
   "metadata": {},
   "source": [
    "### Append to a file"
   ]
  },
  {
   "cell_type": "code",
   "execution_count": 10,
   "id": "671888b9",
   "metadata": {},
   "outputs": [],
   "source": [
    "file = open (\"log.txt\", 'a')\n",
    "file.write (\"Another access at 10:39 AM\\n\")\n",
    "file.close()"
   ]
  },
  {
   "cell_type": "code",
   "execution_count": 11,
   "id": "085b35a3",
   "metadata": {},
   "outputs": [],
   "source": [
    "file = open(\"logfile.log\", \"w\")\n",
    "file.write(\"Hello World, :)  \")\n",
    "file.close()\n"
   ]
  },
  {
   "cell_type": "markdown",
   "id": "735486ce",
   "metadata": {},
   "source": [
    "# Reading lines from a file:"
   ]
  },
  {
   "cell_type": "code",
   "execution_count": 17,
   "id": "dda3b7ad",
   "metadata": {},
   "outputs": [
    {
     "name": "stdout",
     "output_type": "stream",
     "text": [
      "This is line 1\n",
      "This is line 2\n",
      "This is line 3\n",
      "|This is line 4\n",
      "This is line 5\n"
     ]
    }
   ],
   "source": [
    "file = open (\"data.txt\", \"r\")\n",
    "lines = file.readlines() #reads all lines into a list \n",
    "for line in lines:\n",
    "    print (line.strip())\n",
    "file.close()"
   ]
  },
  {
   "cell_type": "code",
   "execution_count": 26,
   "id": "4d4a2535",
   "metadata": {},
   "outputs": [
    {
     "name": "stdout",
     "output_type": "stream",
     "text": [
      "    Hello World   \n"
     ]
    }
   ],
   "source": [
    "text =\"    Hello World   \"\n",
    "cleanText = text.lstrip()\n",
    "print(text)"
   ]
  },
  {
   "cell_type": "markdown",
   "id": "6e9475ba",
   "metadata": {},
   "source": [
    "# open and close the file automatically by using \"with\" Keyword "
   ]
  },
  {
   "cell_type": "code",
   "execution_count": 28,
   "id": "9e8d628d",
   "metadata": {},
   "outputs": [
    {
     "name": "stdout",
     "output_type": "stream",
     "text": [
      "lorem ipsum lorem ipsum lorem ipsum lorem ipsum lorem ipsum lorem ipsum lorem ipsum lorem ipsum lorem ipsum lorem ipsum lorem ipsum lorem ipsum lorem ipsum lorem ipsum lorem ipsum lorem ipsum lorem ipsum lorem ipsum lorem ipsum lorem ipsum lorem ipsum lorem ipsum lorem ipsum lorem ipsum lorem ipsum lorem ipsum lorem ipsum lorem ipsum lorem ipsum lorem ipsum lorem ipsum lorem ipsum lorem ipsum lorem ipsum lorem ipsum lorem ipsum lorem ipsum lorem ipsum lorem ipsum lorem ipsum lorem ipsum lorem ipsum lorem ipsum lorem ipsum lorem ipsum lorem ipsum lorem ipsum lorem ipsum lorem ipsum lorem ipsum lorem ipsum lorem ipsum lorem ipsum lorem ipsum lorem ipsum lorem ipsum lorem ipsum lorem ipsum lorem ipsum lorem ipsum lorem ipsum lorem ipsum lorem ipsum lorem ipsum lorem ipsum lorem ipsum lorem ipsum lorem ipsum lorem ipsum lorem ipsum lorem ipsum lorem ipsum lorem ipsum lorem ipsum lorem ipsum lorem ipsum lorem ipsum lorem ipsum lorem ipsum lorem ipsum lorem ipsum lorem ipsum lorem ipsum lorem ipsum lorem ipsum lorem ipsum lorem ipsum lorem ipsum lorem ipsum lorem ipsum lorem ipsum lorem ipsum lorem ipsum \n"
     ]
    }
   ],
   "source": [
    "with open (\"Sample.txt\", \"r\") as file:\n",
    "    content = file .read()\n",
    "    print(content)"
   ]
  },
  {
   "cell_type": "markdown",
   "id": "984c1c63",
   "metadata": {},
   "source": [
    "## open an  Binary image file\n"
   ]
  },
  {
   "cell_type": "code",
   "execution_count": 33,
   "id": "0b9673ce",
   "metadata": {},
   "outputs": [
    {
     "name": "stderr",
     "output_type": "stream",
     "text": [
      "IOPub data rate exceeded.\n",
      "The notebook server will temporarily stop sending output\n",
      "to the client in order to avoid crashing it.\n",
      "To change this limit, set the config variable\n",
      "`--NotebookApp.iopub_data_rate_limit`.\n",
      "\n",
      "Current values:\n",
      "NotebookApp.iopub_data_rate_limit=1000000.0 (bytes/sec)\n",
      "NotebookApp.rate_limit_window=3.0 (secs)\n",
      "\n"
     ]
    }
   ],
   "source": [
    "with open(\"olive.png\", 'rb') as file:\n",
    "    content = file.read()\n",
    "    #print (f\"the files first byte: {content[0]})\n",
    "    print(content)\n",
    "    "
   ]
  },
  {
   "cell_type": "code",
   "execution_count": null,
   "id": "5ff31336",
   "metadata": {},
   "outputs": [],
   "source": []
  }
 ],
 "metadata": {
  "kernelspec": {
   "display_name": "Python 3 (ipykernel)",
   "language": "python",
   "name": "python3"
  },
  "language_info": {
   "codemirror_mode": {
    "name": "ipython",
    "version": 3
   },
   "file_extension": ".py",
   "mimetype": "text/x-python",
   "name": "python",
   "nbconvert_exporter": "python",
   "pygments_lexer": "ipython3",
   "version": "3.11.4"
  }
 },
 "nbformat": 4,
 "nbformat_minor": 5
}
