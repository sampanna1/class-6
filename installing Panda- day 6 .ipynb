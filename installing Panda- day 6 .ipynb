{
 "cells": [
  {
   "cell_type": "markdown",
   "id": "e3423c62",
   "metadata": {},
   "source": [
    "# Installing Panda packages into python "
   ]
  },
  {
   "cell_type": "markdown",
   "id": "ad695104",
   "metadata": {},
   "source": [
    "# https://pypi.org/\n",
    "\n",
    "* search pyMUPDF\n",
    "* PyMuPDF 1.23.26 \n",
    "* go to anoconda propmt (CDM) and type pip3 \n",
    "* type pip3 install PyMuPDF\n"
   ]
  },
  {
   "cell_type": "markdown",
   "id": "fd89329e",
   "metadata": {},
   "source": [
    "# pdf_text-extractor"
   ]
  },
  {
   "cell_type": "code",
   "execution_count": 10,
   "id": "cb2365c3",
   "metadata": {},
   "outputs": [
    {
     "name": "stdout",
     "output_type": "stream",
     "text": [
      "Defaulting to user installation because normal site-packages is not writeable\n",
      "Requirement already satisfied: PyMuPDF in c:\\users\\ss21744\\appdata\\roaming\\python\\python311\\site-packages (1.24.0)\n",
      "Requirement already satisfied: PyMuPDFb==1.24.0 in c:\\users\\ss21744\\appdata\\roaming\\python\\python311\\site-packages (from PyMuPDF) (1.24.0)\n"
     ]
    }
   ],
   "source": [
    "!pip3 install PyMuPDF"
   ]
  },
  {
   "cell_type": "code",
   "execution_count": 15,
   "id": "70b1c0ce",
   "metadata": {},
   "outputs": [
    {
     "ename": "ModuleNotFoundError",
     "evalue": "No module named 'fitz'",
     "output_type": "error",
     "traceback": [
      "\u001b[1;31m---------------------------------------------------------------------------\u001b[0m",
      "\u001b[1;31mModuleNotFoundError\u001b[0m                       Traceback (most recent call last)",
      "Cell \u001b[1;32mIn[15], line 1\u001b[0m\n\u001b[1;32m----> 1\u001b[0m \u001b[38;5;28;01mimport\u001b[39;00m \u001b[38;5;21;01mfitz\u001b[39;00m\n",
      "\u001b[1;31mModuleNotFoundError\u001b[0m: No module named 'fitz'"
     ]
    }
   ],
   "source": [
    "import fitz #pyMUPDF"
   ]
  },
  {
   "cell_type": "code",
   "execution_count": null,
   "id": "337a7fe3",
   "metadata": {},
   "outputs": [],
   "source": []
  },
  {
   "cell_type": "code",
   "execution_count": null,
   "id": "04deb5c5",
   "metadata": {},
   "outputs": [],
   "source": []
  }
 ],
 "metadata": {
  "kernelspec": {
   "display_name": "Python 3 (ipykernel)",
   "language": "python",
   "name": "python3"
  },
  "language_info": {
   "codemirror_mode": {
    "name": "ipython",
    "version": 3
   },
   "file_extension": ".py",
   "mimetype": "text/x-python",
   "name": "python",
   "nbconvert_exporter": "python",
   "pygments_lexer": "ipython3",
   "version": "3.11.4"
  }
 },
 "nbformat": 4,
 "nbformat_minor": 5
}
