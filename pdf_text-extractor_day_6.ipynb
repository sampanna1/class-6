{
 "cells": [
  {
   "cell_type": "code",
   "execution_count": 1,
   "id": "07fb2f9a",
   "metadata": {},
   "outputs": [],
   "source": [
    "import fitz #pyMuPDF"
   ]
  },
  {
   "cell_type": "code",
   "execution_count": 4,
   "id": "c8f8c2d0",
   "metadata": {},
   "outputs": [
    {
     "name": "stdout",
     "output_type": "stream",
     "text": [
      "Sample PDF\n",
      "This is a simple PDF ﬁle. Fun fun fun.\n",
      "Lorem ipsum dolor sit amet, consectetuer adipiscing elit. Phasellus facilisis odio sed mi. \n",
      "Curabitur suscipit. Nullam vel nisi. Etiam semper ipsum ut lectus. Proin aliquam, erat eget \n",
      "pharetra commodo, eros mi condimentum quam, sed commodo justo quam ut velit. \n",
      "Integer a erat. Cras laoreet ligula cursus enim. Aenean scelerisque velit et tellus. \n",
      "Vestibulum dictum aliquet sem. Nulla facilisi. Vestibulum accumsan ante vitae elit. Nulla \n",
      "erat dolor, blandit in, rutrum quis, semper pulvinar, enim. Nullam varius congue risus. \n",
      "Vivamus sollicitudin, metus ut interdum eleifend, nisi tellus pellentesque elit, tristique \n",
      "accumsan eros quam et risus. Suspendisse libero odio, mattis sit amet, aliquet eget, \n",
      "hendrerit vel, nulla. Sed vitae augue. Aliquam erat volutpat. Aliquam feugiat vulputate nisl. \n",
      "Suspendisse quis nulla pretium ante pretium mollis. Proin velit ligula, sagittis at, egestas a, \n",
      "pulvinar quis, nisl.\n",
      "Pellentesque sit amet lectus. Praesent pulvinar, nunc quis iaculis sagittis, justo quam \n",
      "lobortis tortor, sed vestibulum dui metus venenatis est. Nunc cursus ligula. Nulla facilisi. \n",
      "Phasellus ullamcorper consectetuer ante. Duis tincidunt, urna id condimentum luctus, nibh \n",
      "ante vulputate sapien, id sagittis massa orci ut enim. Pellentesque vestibulum convallis \n",
      "sem. Nulla consequat quam ut nisl. Nullam est. Curabitur tincidunt dapibus lorem. Proin \n",
      "velit turpis, scelerisque sit amet, iaculis nec, rhoncus ac, ipsum. Phasellus lorem arcu, \n",
      "feugiat eu, gravida eu, consequat molestie, ipsum. Nullam vel est ut ipsum volutpat \n",
      "feugiat. Aenean pellentesque.\n",
      "In mauris. Pellentesque dui nisi, iaculis eu, rhoncus in, venenatis ac, ante. Ut odio justo, \n",
      "scelerisque vel, facilisis non, commodo a, pede. Cras nec massa sit amet tortor volutpat \n",
      "varius. Donec lacinia, neque a luctus aliquet, pede massa imperdiet ante, at varius lorem \n",
      "pede sed sapien. Fusce erat nibh, aliquet in, eleifend eget, commodo eget, erat. Fusce \n",
      "consectetuer. Cras risus tortor, porttitor nec, tristique sed, convallis semper, eros. Fusce \n",
      "vulputate ipsum a mauris. Phasellus mollis. Curabitur sed urna. Aliquam nec sapien non \n",
      "nibh pulvinar convallis. Vivamus facilisis augue quis quam. Proin cursus aliquet metus. \n",
      "Suspendisse lacinia. Nulla at tellus ac turpis eleifend scelerisque. Maecenas a pede vitae \n",
      "enim commodo interdum. Donec odio. Sed sollicitudin dui vitae justo.\n",
      "Morbi elit nunc, facilisis a, mollis a, molestie at, lectus. Suspendisse eget mauris eu tellus \n",
      "molestie cursus. Duis ut magna at justo dignissim condimentum. Cum sociis natoque \n",
      "penatibus et magnis dis parturient montes, nascetur ridiculus mus. Vivamus varius. Ut sit \n",
      "amet diam suscipit mauris ornare aliquam. Sed varius. Duis arcu. Etiam tristique massa \n",
      "eget dui. Phasellus congue. Aenean est erat, tincidunt eget, venenatis quis, commodo at, \n",
      "quam.\n",
      "\n"
     ]
    }
   ],
   "source": [
    "text = ''\n",
    "with fitz.open('sample.pdf') as doc:\n",
    "    #iterate through each page in PFF\n",
    "    for page in doc:\n",
    "        # extract text from the current page \n",
    "        text += page.get_text()\n",
    "print(text)"
   ]
  },
  {
   "cell_type": "code",
   "execution_count": 5,
   "id": "ad047e4b",
   "metadata": {},
   "outputs": [
    {
     "data": {
      "text/plain": [
       "'C:\\\\Users\\\\ss21744'"
      ]
     },
     "execution_count": 5,
     "metadata": {},
     "output_type": "execute_result"
    }
   ],
   "source": [
    "%pwd"
   ]
  },
  {
   "cell_type": "code",
   "execution_count": null,
   "id": "d220afac",
   "metadata": {},
   "outputs": [],
   "source": []
  }
 ],
 "metadata": {
  "kernelspec": {
   "display_name": "Python 3 (ipykernel)",
   "language": "python",
   "name": "python3"
  },
  "language_info": {
   "codemirror_mode": {
    "name": "ipython",
    "version": 3
   },
   "file_extension": ".py",
   "mimetype": "text/x-python",
   "name": "python",
   "nbconvert_exporter": "python",
   "pygments_lexer": "ipython3",
   "version": "3.11.4"
  }
 },
 "nbformat": 4,
 "nbformat_minor": 5
}
