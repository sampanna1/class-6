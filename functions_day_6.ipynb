{
 "cells": [
  {
   "cell_type": "markdown",
   "id": "5d816b77",
   "metadata": {},
   "source": [
    "## function "
   ]
  },
  {
   "cell_type": "code",
   "execution_count": 1,
   "id": "e024d554",
   "metadata": {},
   "outputs": [],
   "source": [
    "# structure of a function in python is \n",
    "#def <function_name>(<input parameters>):\n",
    "#    <functions_body>\n",
    "#    <return pr a print statement>"
   ]
  },
  {
   "cell_type": "code",
   "execution_count": 8,
   "id": "d6cf36c8",
   "metadata": {},
   "outputs": [],
   "source": [
    "def greet(name): \n",
    "    print(\"Hi \" + name )\n",
    "    print(\"Nice to see you again!\")\n",
    "    "
   ]
  },
  {
   "cell_type": "code",
   "execution_count": 9,
   "id": "1083f116",
   "metadata": {},
   "outputs": [
    {
     "name": "stdout",
     "output_type": "stream",
     "text": [
      "Hi Sampanna\n",
      "Nice to see you again!\n"
     ]
    }
   ],
   "source": [
    "greet(\"Sampanna\")"
   ]
  },
  {
   "cell_type": "code",
   "execution_count": 10,
   "id": "e25c46fb",
   "metadata": {},
   "outputs": [
    {
     "name": "stdout",
     "output_type": "stream",
     "text": [
      "Hi sam\n",
      "Nice to see you again!\n"
     ]
    }
   ],
   "source": [
    "greet(\"sam\")"
   ]
  },
  {
   "cell_type": "markdown",
   "id": "546efc90",
   "metadata": {},
   "source": [
    "## Write a function to convert to fahrenheit "
   ]
  },
  {
   "cell_type": "code",
   "execution_count": 11,
   "id": "b9664c79",
   "metadata": {},
   "outputs": [],
   "source": [
    "def fahrenheit(t_in_celsius):\n",
    "    return (t_in_celsius *9/5)+ 32"
   ]
  },
  {
   "cell_type": "code",
   "execution_count": 14,
   "id": "9303ae71",
   "metadata": {},
   "outputs": [
    {
     "name": "stdout",
     "output_type": "stream",
     "text": [
      "104.0\n"
     ]
    }
   ],
   "source": [
    "print (fahrenheit(40))"
   ]
  },
  {
   "cell_type": "code",
   "execution_count": 16,
   "id": "791c6c0c",
   "metadata": {},
   "outputs": [
    {
     "name": "stdout",
     "output_type": "stream",
     "text": [
      "22.6 --> 72.68\n",
      "25.8 --> 78.44\n",
      "27.3 --> 81.14\n",
      "29.9 --> 85.82\n"
     ]
    }
   ],
   "source": [
    "lstTemp = [22.6, 25.8, 27.3, 29.9]\n",
    "for t in lstTemp:\n",
    "    print(t, \"-->\", fahrenheit(t))\n",
    "    "
   ]
  },
  {
   "cell_type": "markdown",
   "id": "6cd805dc",
   "metadata": {},
   "source": [
    "# Calculate Average"
   ]
  },
  {
   "cell_type": "code",
   "execution_count": 20,
   "id": "8453e436",
   "metadata": {},
   "outputs": [],
   "source": [
    "def avg(inFirst, *intRest): #intRest is called cariable argument \n",
    "    return(inFirst + sum(intRest)) / (1 +len(intRest))"
   ]
  },
  {
   "cell_type": "code",
   "execution_count": 21,
   "id": "e87e0c29",
   "metadata": {},
   "outputs": [
    {
     "data": {
      "text/plain": [
       "2.0"
      ]
     },
     "execution_count": 21,
     "metadata": {},
     "output_type": "execute_result"
    }
   ],
   "source": [
    "avg(1, 2, 3)"
   ]
  },
  {
   "cell_type": "code",
   "execution_count": 22,
   "id": "8310a9fc",
   "metadata": {},
   "outputs": [
    {
     "data": {
      "text/plain": [
       "2.5"
      ]
     },
     "execution_count": 22,
     "metadata": {},
     "output_type": "execute_result"
    }
   ],
   "source": [
    "avg (1, 2, 3, 4)"
   ]
  },
  {
   "cell_type": "code",
   "execution_count": 27,
   "id": "bad360e9",
   "metadata": {},
   "outputs": [],
   "source": [
    "def average(*intRest):\n",
    "    return( sum(intRest)) / (len(intRest))"
   ]
  },
  {
   "cell_type": "code",
   "execution_count": 29,
   "id": "bb32f152",
   "metadata": {},
   "outputs": [
    {
     "data": {
      "text/plain": [
       "5.6"
      ]
     },
     "execution_count": 29,
     "metadata": {},
     "output_type": "execute_result"
    }
   ],
   "source": [
    "average(4,5,6,6,7)"
   ]
  },
  {
   "cell_type": "code",
   "execution_count": 36,
   "id": "a29912e6",
   "metadata": {},
   "outputs": [],
   "source": [
    "def hello(name):\n",
    "    return \"hello\" + name + \"!\"\n"
   ]
  },
  {
   "cell_type": "code",
   "execution_count": 37,
   "id": "2c25ae32",
   "metadata": {},
   "outputs": [
    {
     "data": {
      "text/plain": [
       "'helloJack!'"
      ]
     },
     "execution_count": 37,
     "metadata": {},
     "output_type": "execute_result"
    }
   ],
   "source": [
    "hello(\"Jack\")"
   ]
  },
  {
   "cell_type": "code",
   "execution_count": 41,
   "id": "dd91f889",
   "metadata": {},
   "outputs": [],
   "source": [
    "def hello(name = \"everybody\"): #default value for name is provided \n",
    "    return \"hello \" + name + \"!\"\n"
   ]
  },
  {
   "cell_type": "code",
   "execution_count": 42,
   "id": "5dfa7d6e",
   "metadata": {},
   "outputs": [
    {
     "data": {
      "text/plain": [
       "'hello everybody!'"
      ]
     },
     "execution_count": 42,
     "metadata": {},
     "output_type": "execute_result"
    }
   ],
   "source": [
    "hello()"
   ]
  },
  {
   "cell_type": "code",
   "execution_count": 43,
   "id": "de3fa091",
   "metadata": {},
   "outputs": [
    {
     "data": {
      "text/plain": [
       "'hello Jane!'"
      ]
     },
     "execution_count": 43,
     "metadata": {},
     "output_type": "execute_result"
    }
   ],
   "source": [
    "hello (\"Jane\")"
   ]
  },
  {
   "cell_type": "code",
   "execution_count": 45,
   "id": "28eb49f9",
   "metadata": {},
   "outputs": [],
   "source": [
    "def add (x, y):\n",
    "    return x + y\n"
   ]
  },
  {
   "cell_type": "code",
   "execution_count": 47,
   "id": "ed70c8d1",
   "metadata": {},
   "outputs": [
    {
     "name": "stdout",
     "output_type": "stream",
     "text": [
      "Help on function add in module __main__:\n",
      "\n",
      "add(x, y)\n",
      "\n"
     ]
    }
   ],
   "source": [
    "help(add)"
   ]
  },
  {
   "cell_type": "code",
   "execution_count": 48,
   "id": "44eeaa00",
   "metadata": {},
   "outputs": [],
   "source": [
    "def add (x:int, y:int) ->int:\n",
    "    return x + y\n"
   ]
  },
  {
   "cell_type": "code",
   "execution_count": 49,
   "id": "d568dee9",
   "metadata": {},
   "outputs": [
    {
     "data": {
      "text/plain": [
       "5"
      ]
     },
     "execution_count": 49,
     "metadata": {},
     "output_type": "execute_result"
    }
   ],
   "source": [
    "add (2, 3)"
   ]
  },
  {
   "cell_type": "code",
   "execution_count": 50,
   "id": "02182511",
   "metadata": {},
   "outputs": [
    {
     "name": "stdout",
     "output_type": "stream",
     "text": [
      "Help on function add in module __main__:\n",
      "\n",
      "add(x: int, y: int) -> int\n",
      "\n"
     ]
    }
   ],
   "source": [
    "help(add)"
   ]
  },
  {
   "cell_type": "code",
   "execution_count": 51,
   "id": "a8b78706",
   "metadata": {},
   "outputs": [],
   "source": [
    "def myFunc():\n",
    "    return 1, 2, 3,"
   ]
  },
  {
   "cell_type": "code",
   "execution_count": 52,
   "id": "8891fb0b",
   "metadata": {},
   "outputs": [],
   "source": [
    "a, b, c = myFunc()"
   ]
  },
  {
   "cell_type": "code",
   "execution_count": 53,
   "id": "f67f692c",
   "metadata": {},
   "outputs": [
    {
     "data": {
      "text/plain": [
       "1"
      ]
     },
     "execution_count": 53,
     "metadata": {},
     "output_type": "execute_result"
    }
   ],
   "source": [
    "a\n"
   ]
  },
  {
   "cell_type": "code",
   "execution_count": 54,
   "id": "cc5c969b",
   "metadata": {},
   "outputs": [
    {
     "data": {
      "text/plain": [
       "2"
      ]
     },
     "execution_count": 54,
     "metadata": {},
     "output_type": "execute_result"
    }
   ],
   "source": [
    "b"
   ]
  },
  {
   "cell_type": "code",
   "execution_count": 55,
   "id": "69853c07",
   "metadata": {},
   "outputs": [
    {
     "data": {
      "text/plain": [
       "3"
      ]
     },
     "execution_count": 55,
     "metadata": {},
     "output_type": "execute_result"
    }
   ],
   "source": [
    "c"
   ]
  },
  {
   "cell_type": "code",
   "execution_count": 88,
   "id": "9238437e",
   "metadata": {},
   "outputs": [],
   "source": [
    "def add(a:int, b:int) ->int:\n",
    "    return a + b"
   ]
  },
  {
   "cell_type": "code",
   "execution_count": 73,
   "id": "f8d509d5",
   "metadata": {},
   "outputs": [
    {
     "data": {
      "text/plain": [
       "48"
      ]
     },
     "execution_count": 73,
     "metadata": {},
     "output_type": "execute_result"
    }
   ],
   "source": [
    "add(23, 25)"
   ]
  },
  {
   "cell_type": "code",
   "execution_count": 71,
   "id": "2b322f3e",
   "metadata": {},
   "outputs": [],
   "source": [
    "def subtract(a:int, b:int) ->int:\n",
    "    return a - b"
   ]
  },
  {
   "cell_type": "code",
   "execution_count": 74,
   "id": "3ec14176",
   "metadata": {},
   "outputs": [
    {
     "data": {
      "text/plain": [
       "-209"
      ]
     },
     "execution_count": 74,
     "metadata": {},
     "output_type": "execute_result"
    }
   ],
   "source": [
    "subtract(24, 233)"
   ]
  },
  {
   "cell_type": "code",
   "execution_count": 70,
   "id": "5d5227f5",
   "metadata": {},
   "outputs": [],
   "source": [
    "def division(a:int,  b:int) ->int:\n",
    "    return a / b"
   ]
  },
  {
   "cell_type": "code",
   "execution_count": 75,
   "id": "f178b695",
   "metadata": {},
   "outputs": [
    {
     "data": {
      "text/plain": [
       "3.75"
      ]
     },
     "execution_count": 75,
     "metadata": {},
     "output_type": "execute_result"
    }
   ],
   "source": [
    "division (150, 40)"
   ]
  },
  {
   "cell_type": "code",
   "execution_count": 89,
   "id": "4248ae7e",
   "metadata": {},
   "outputs": [],
   "source": [
    "def multiplication(a:int, b:int) ->int:\n",
    "    return a * b"
   ]
  },
  {
   "cell_type": "code",
   "execution_count": 90,
   "id": "7b6ed227",
   "metadata": {},
   "outputs": [
    {
     "data": {
      "text/plain": [
       "1530"
      ]
     },
     "execution_count": 90,
     "metadata": {},
     "output_type": "execute_result"
    }
   ],
   "source": [
    "multiplication( 45, 34)"
   ]
  },
  {
   "cell_type": "markdown",
   "id": "245ceb4d",
   "metadata": {},
   "source": [
    "# create 2 variables, x and y\n",
    "# call input function to get values from the console \n",
    "# create another variable to check if the user wants to add, subtract, multipy or divide\n",
    "# call the appropriate cuntion and return the value"
   ]
  },
  {
   "cell_type": "code",
   "execution_count": 91,
   "id": "c0e777a0",
   "metadata": {},
   "outputs": [
    {
     "name": "stdout",
     "output_type": "stream",
     "text": [
      "Enter the numebr you want2\n",
      "Enter the numebr you want4\n",
      "Enter add/subtract/multiply or divideadd\n",
      "your choose:  add\n",
      "6\n"
     ]
    }
   ],
   "source": [
    "x = int(input (\"Enter the numebr you want\"))\n",
    "y = int(input (\"Enter the numebr you want\"))\n",
    "\n",
    "# def calulater(x, y)\n",
    "# def add(x, y)\n",
    "#     return x + y\n",
    "# def subtract(x, y) \n",
    "#     return x - y\n",
    "# def division(x, y)\n",
    "#     return x / y\n",
    "# def multiplication(x, y) \n",
    "#     return x * y\n",
    "\n",
    "choice = input (\"Enter add/subtract/multiply or divide\")\n",
    "print(\"your choose: \", choice)\n",
    "if choice == \"add\":\n",
    "    print (add(x, y))\n",
    "elif choice == \"subtract\":\n",
    "     print (subtract(x, y))\n",
    "elif choice == \"multiply\":\n",
    "     print (multiply(x, y))\n",
    "elif choice == \"divide\":\n",
    "     print (divide(x, y))\n",
    "        \n",
    "        "
   ]
  },
  {
   "cell_type": "code",
   "execution_count": null,
   "id": "ca9be34f",
   "metadata": {},
   "outputs": [],
   "source": []
  },
  {
   "cell_type": "code",
   "execution_count": null,
   "id": "055f792d",
   "metadata": {},
   "outputs": [],
   "source": []
  }
 ],
 "metadata": {
  "kernelspec": {
   "display_name": "Python 3 (ipykernel)",
   "language": "python",
   "name": "python3"
  },
  "language_info": {
   "codemirror_mode": {
    "name": "ipython",
    "version": 3
   },
   "file_extension": ".py",
   "mimetype": "text/x-python",
   "name": "python",
   "nbconvert_exporter": "python",
   "pygments_lexer": "ipython3",
   "version": "3.11.4"
  }
 },
 "nbformat": 4,
 "nbformat_minor": 5
}
